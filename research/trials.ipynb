{
 "cells": [
  {
   "cell_type": "code",
   "execution_count": 18,
   "metadata": {},
   "outputs": [],
   "source": [
    "from langchain import PromptTemplate\n",
    "from langchain.chains import RetrievalQA\n",
    "from langchain.document_loaders import PyPDFLoader, DirectoryLoader\n",
    "from langchain.text_splitter import RecursiveCharacterTextSplitter\n",
    "from langchain.prompts import PromptTemplate\n",
    "from langchain.llms import CTransformers\n"
   ]
  },
  {
   "cell_type": "code",
   "execution_count": 8,
   "metadata": {},
   "outputs": [],
   "source": [
    "#Extract data from the PDF\n",
    "def load_pdf(data):\n",
    "    loader = DirectoryLoader(data,\n",
    "                    glob=\"*.pdf\",\n",
    "                    loader_cls=PyPDFLoader)\n",
    "    \n",
    "    documents = loader.load()\n",
    "\n",
    "    return documents"
   ]
  },
  {
   "cell_type": "code",
   "execution_count": null,
   "metadata": {},
   "outputs": [],
   "source": [
    "extracted_data = load_pdf(\"../data/\")"
   ]
  },
  {
   "cell_type": "code",
   "execution_count": 6,
   "metadata": {},
   "outputs": [
    {
     "data": {
      "text/plain": [
       "Document(page_content='', metadata={'source': '..\\\\data\\\\Medical_book.pdf', 'page': 0})"
      ]
     },
     "execution_count": 6,
     "metadata": {},
     "output_type": "execute_result"
    }
   ],
   "source": [
    "extracted_data[0]"
   ]
  },
  {
   "cell_type": "code",
   "execution_count": 11,
   "metadata": {},
   "outputs": [],
   "source": [
    "#Create text chunks\n",
    "def text_split(extracted_data):\n",
    "    text_splitter = RecursiveCharacterTextSplitter(chunk_size = 500, chunk_overlap = 20)\n",
    "    text_chunks = text_splitter.split_documents(extracted_data)\n",
    "\n",
    "    return text_chunks"
   ]
  },
  {
   "cell_type": "code",
   "execution_count": 12,
   "metadata": {},
   "outputs": [
    {
     "name": "stdout",
     "output_type": "stream",
     "text": [
      "length of my chunk: 7020\n"
     ]
    }
   ],
   "source": [
    "text_chunks = text_split(extracted_data)\n",
    "print(\"length of my chunk:\", len(text_chunks))"
   ]
  },
  {
   "cell_type": "code",
   "execution_count": 14,
   "metadata": {},
   "outputs": [
    {
     "data": {
      "text/plain": [
       "7020"
      ]
     },
     "execution_count": 14,
     "metadata": {},
     "output_type": "execute_result"
    }
   ],
   "source": [
    "len(text_chunks)"
   ]
  },
  {
   "cell_type": "code",
   "execution_count": 7,
   "metadata": {},
   "outputs": [],
   "source": [
    "#download embedding model\n",
    "def download_hugging_face_embeddings():\n",
    "    embeddings = HuggingFaceEmbeddings(model_name=\"sentence-transformers/all-MiniLM-L6-v2\")\n",
    "    return embeddings"
   ]
  },
  {
   "cell_type": "code",
   "execution_count": 9,
   "metadata": {},
   "outputs": [
    {
     "name": "stderr",
     "output_type": "stream",
     "text": [
      "c:\\Users\\z003zt8j\\AppData\\Local\\miniconda3\\envs\\mchatbot\\Lib\\site-packages\\huggingface_hub\\file_download.py:1132: FutureWarning: `resume_download` is deprecated and will be removed in version 1.0.0. Downloads always resume when possible. If you want to force a new download, use `force_download=True`.\n",
      "  warnings.warn(\n"
     ]
    }
   ],
   "source": [
    "from langchain.embeddings import HuggingFaceEmbeddings\n",
    "\n",
    "embeddings = download_hugging_face_embeddings()"
   ]
  },
  {
   "cell_type": "code",
   "execution_count": 27,
   "metadata": {},
   "outputs": [
    {
     "data": {
      "text/plain": [
       "HuggingFaceEmbeddings(client=SentenceTransformer(\n",
       "  (0): Transformer({'max_seq_length': 256, 'do_lower_case': False}) with Transformer model: BertModel \n",
       "  (1): Pooling({'word_embedding_dimension': 384, 'pooling_mode_cls_token': False, 'pooling_mode_mean_tokens': True, 'pooling_mode_max_tokens': False, 'pooling_mode_mean_sqrt_len_tokens': False, 'pooling_mode_weightedmean_tokens': False, 'pooling_mode_lasttoken': False, 'include_prompt': True})\n",
       "  (2): Normalize()\n",
       "), model_name='sentence-transformers/all-MiniLM-L6-v2', cache_folder=None, model_kwargs={}, encode_kwargs={}, multi_process=False, show_progress=False)"
      ]
     },
     "execution_count": 27,
     "metadata": {},
     "output_type": "execute_result"
    }
   ],
   "source": [
    "embeddings"
   ]
  },
  {
   "cell_type": "code",
   "execution_count": 28,
   "metadata": {},
   "outputs": [
    {
     "name": "stdout",
     "output_type": "stream",
     "text": [
      "Length 384\n"
     ]
    }
   ],
   "source": [
    "query_result = embeddings.embed_query(\"Hello world\")\n",
    "print(\"Length\", len(query_result))"
   ]
  },
  {
   "cell_type": "code",
   "execution_count": 19,
   "metadata": {},
   "outputs": [
    {
     "name": "stderr",
     "output_type": "stream",
     "text": [
      "c:\\Users\\z003zt8j\\AppData\\Local\\miniconda3\\envs\\mchatbot\\Lib\\site-packages\\huggingface_hub\\file_download.py:1132: FutureWarning: `resume_download` is deprecated and will be removed in version 1.0.0. Downloads always resume when possible. If you want to force a new download, use `force_download=True`.\n",
      "  warnings.warn(\n"
     ]
    },
    {
     "data": {
      "text/plain": [
       "SentenceTransformer(\n",
       "  (0): Transformer({'max_seq_length': 256, 'do_lower_case': False}) with Transformer model: BertModel \n",
       "  (1): Pooling({'word_embedding_dimension': 384, 'pooling_mode_cls_token': False, 'pooling_mode_mean_tokens': True, 'pooling_mode_max_tokens': False, 'pooling_mode_mean_sqrt_len_tokens': False, 'pooling_mode_weightedmean_tokens': False, 'pooling_mode_lasttoken': False, 'include_prompt': True})\n",
       "  (2): Normalize()\n",
       ")"
      ]
     },
     "execution_count": 19,
     "metadata": {},
     "output_type": "execute_result"
    }
   ],
   "source": [
    "#Initializing the Pinecone\n",
    "from sentence_transformers import SentenceTransformer\n",
    "import torch\n",
    "\n",
    "device = 'cuda' if torch.cuda.is_available() else 'cpu'\n",
    "\n",
    "model = SentenceTransformer('sentence-transformers/all-MiniLM-L6-v2', device=device)\n",
    "model"
   ]
  },
  {
   "cell_type": "code",
   "execution_count": 20,
   "metadata": {},
   "outputs": [
    {
     "data": {
      "text/plain": [
       "'TheGALE\\nENCYCLOPEDIA\\nofMEDICINE\\nSECOND EDITION'"
      ]
     },
     "execution_count": 20,
     "metadata": {},
     "output_type": "execute_result"
    }
   ],
   "source": [
    "text_chunks[0].page_content"
   ]
  },
  {
   "cell_type": "code",
   "execution_count": 21,
   "metadata": {},
   "outputs": [],
   "source": [
    "#Creating Embeddings for Each of The Text Chunks & storing\n",
    "vectors = []\n",
    "for i, embedding in enumerate(text_chunks):    \n",
    "    vectors.append({\n",
    "        \"id\": f\"doc_{i}\",\n",
    "        \"values\": model.encode(embedding.page_content),\n",
    "        \"metadata\": {\"text\": embedding.page_content}\n",
    "    })"
   ]
  },
  {
   "cell_type": "code",
   "execution_count": 3,
   "metadata": {},
   "outputs": [
    {
     "name": "stderr",
     "output_type": "stream",
     "text": [
      "c:\\Users\\z003zt8j\\AppData\\Local\\miniconda3\\envs\\mchatbot\\Lib\\site-packages\\pinecone\\data\\index.py:1: TqdmWarning: IProgress not found. Please update jupyter and ipywidgets. See https://ipywidgets.readthedocs.io/en/stable/user_install.html\n",
      "  from tqdm.autonotebook import tqdm\n"
     ]
    }
   ],
   "source": [
    "from pinecone import Pinecone\n",
    "\n",
    "PINECONE_API_KEY = \"f67033c1-66b9-44e0-bb81-edf716168e9e\"\n",
    "\n",
    "pc = Pinecone(api_key=PINECONE_API_KEY)"
   ]
  },
  {
   "cell_type": "code",
   "execution_count": 15,
   "metadata": {},
   "outputs": [],
   "source": [
    "from langchain.vectorstores import Pinecone\n",
    "\n",
    "index_name=\"medical-chatbot\"\n",
    "\n",
    "# connect to index\n",
    "index = pc.Index(index_name)\n",
    "\n",
    "text_field = \"text\"\n",
    "\n",
    "vectorstore = Pinecone(\n",
    "    index=index, \n",
    "    embedding=embeddings, \n",
    "    text_key=text_field)"
   ]
  },
  {
   "cell_type": "code",
   "execution_count": 16,
   "metadata": {},
   "outputs": [
    {
     "data": {
      "text/plain": [
       "[Document(page_content='GALE ENCYCLOPEDIA OF MEDICINE 2 111Allergic rhinitisGEM - 0001 to 0432 - A  10/22/03 1:41 PM  Page 111'),\n",
       " Document(page_content='GALE ENCYCLOPEDIA OF MEDICINE 2 113Allergic rhinitisGEM - 0001 to 0432 - A  10/22/03 1:42 PM  Page 113'),\n",
       " Document(page_content='sensitization to Rh disease.')]"
      ]
     },
     "execution_count": 16,
     "metadata": {},
     "output_type": "execute_result"
    }
   ],
   "source": [
    "vectorstore.similarity_search(\n",
    "    query=\"What is Rhintis?\",  # our search query\n",
    "    k=3  # return 3 most relevant docs\n",
    ")"
   ]
  },
  {
   "cell_type": "code",
   "execution_count": null,
   "metadata": {},
   "outputs": [],
   "source": [
    "len(vectors)\n",
    "#index.upsert([{\"id\":\"vec1\", \"values\":vectors[0]['values'], \"metadata\": vectors[0]['metadata']}])\n",
    "#vectors[0]['values']"
   ]
  },
  {
   "cell_type": "code",
   "execution_count": 74,
   "metadata": {},
   "outputs": [],
   "source": [
    "# Upsert documents into the Pinecone index\n",
    "for vec in vectors:\n",
    "    index.upsert([vec])"
   ]
  },
  {
   "cell_type": "code",
   "execution_count": 20,
   "metadata": {},
   "outputs": [
    {
     "name": "stdout",
     "output_type": "stream",
     "text": [
      "0.81: Description\n",
      "Allergies are among the most common of medical\n",
      "0.77: An allergy is a type of immune reaction. Normally,\n",
      "0.75: Allergen —A substance that provokes an allergic\n",
      "response.\n",
      "Allergic rhinitis —Inflammation of the mucous\n",
      "membranes of the nose and eyes in response to anallergen.\n",
      "Anaphylaxis —Increased sensitivity caused by previ-\n",
      "0.73: known as allergy, and the offending substanceis called an allergen.\n",
      "0.72: KEY TERMS\n",
      "Allergen —A substance that provokes an allergic\n",
      "response.\n",
      "Anaphylaxis —Increased sensitivity caused by pre-\n"
     ]
    }
   ],
   "source": [
    "query = \"What are Allergies\"\n",
    "\n",
    "# create the query vector\n",
    "xq = model.encode(query).tolist()\n",
    "\n",
    "# now query\n",
    "xc = index.query(vector=xq, top_k=5, include_metadata=True)\n",
    "for result in xc['matches']:\n",
    "    print(f\"{round(result['score'], 2)}: {result['metadata']['text']}\")"
   ]
  },
  {
   "cell_type": "code",
   "execution_count": 21,
   "metadata": {},
   "outputs": [],
   "source": [
    "prompt_template=\"\"\"\n",
    "Use the following pieces of information to answer the user's question.\n",
    "If you don't know the answer, just say that you don't know, don't try to make up an answer.\n",
    "\n",
    "Context: {context}\n",
    "Question: {question}\n",
    "\n",
    "Only return the helpful answer below and nothing else.\n",
    "Helpful answer:\n",
    "\"\"\""
   ]
  },
  {
   "cell_type": "code",
   "execution_count": 22,
   "metadata": {},
   "outputs": [],
   "source": [
    "PROMPT=PromptTemplate(template=prompt_template, input_variables=[\"context\", \"question\"])\n",
    "chain_type_kwargs={\"prompt\": PROMPT}"
   ]
  },
  {
   "cell_type": "code",
   "execution_count": 23,
   "metadata": {},
   "outputs": [],
   "source": [
    "llm=CTransformers(model=\"../model/llama-2-7b-chat.ggmlv3.q8_0.bin\",\n",
    "                  model_type=\"llama\",\n",
    "                  config={'max_new_tokens':512,\n",
    "                          'temperature':0.8})"
   ]
  },
  {
   "cell_type": "code",
   "execution_count": 24,
   "metadata": {},
   "outputs": [],
   "source": [
    "qa=RetrievalQA.from_chain_type(\n",
    "    llm=llm, \n",
    "    chain_type=\"stuff\", \n",
    "    retriever=vectorstore.as_retriever(search_kwargs={'k': 2}),\n",
    "    return_source_documents=True, \n",
    "    chain_type_kwargs=chain_type_kwargs)"
   ]
  },
  {
   "cell_type": "code",
   "execution_count": 25,
   "metadata": {},
   "outputs": [
    {
     "name": "stderr",
     "output_type": "stream",
     "text": [
      "c:\\Users\\z003zt8j\\AppData\\Local\\miniconda3\\envs\\mchatbot\\Lib\\site-packages\\langchain_core\\_api\\deprecation.py:119: LangChainDeprecationWarning: The method `Chain.__call__` was deprecated in langchain 0.1.0 and will be removed in 0.3.0. Use invoke instead.\n",
      "  warn_deprecated(\n"
     ]
    }
   ],
   "source": [
    "response = qa({\"query\": \"what are Allergies?\"})"
   ]
  },
  {
   "cell_type": "code",
   "execution_count": 28,
   "metadata": {},
   "outputs": [
    {
     "name": "stdout",
     "output_type": "stream",
     "text": [
      "Allergies are an abnormal response of the immune system to a typically harmless substance, such as pollen, dust mites, or certain foods. When an allergen enters the body, the immune system mistakenly identifies it as harmful and tries to fight it off, leading to uncomfortable symptoms like sneezing, congestion, runny nose, itchy eyes, and skin rashes.\n"
     ]
    }
   ],
   "source": [
    "print(response['result'])"
   ]
  },
  {
   "cell_type": "code",
   "execution_count": 29,
   "metadata": {},
   "outputs": [
    {
     "name": "stdout",
     "output_type": "stream",
     "text": [
      "Response :  There is no known \"cure\" for allergies, but there are various treatments available to help manage symptoms and prevent reactions. These may include medications such as antihistamines, decongestants, and corticosteroids, as well as immunotherapy (allergy shots) and sublingual immunotherapy (SLIT). It is important to work with a healthcare provider to determine the best treatment plan for each individual case.\n",
      "Response :  Allergies are abnormal reactions of the immune system to substances that normally do not harm a person. These substances, called allergens, can cause an allergic reaction when they enter the body. Allergies can affect different parts of the body, including the nose, eyes, skin, and digestive system. Common allergy symptoms include sneezing, runny nose, itchy eyes, hives, and stomach problems. There are several types of allergies, including seasonal allergies (such as hay fever), food allergies, and insect stings. Allergies can be diagnosed by a doctor through a series of tests, including skin prick testing or blood tests. Treatment options for allergies include avoiding the allergen, medications such as antihistamines or decongestants, and immunotherapy (allergy shots).\n",
      "Response :  Acne is formed when the pores of the skin become clogged with oil, dead skin cells, and bacteria. This can lead to inflammation and infection, causing the formation of pimples or zits on the face, chest, and back.\n",
      "Response :  The only technique that comes to mind is the use of activated charcoal. Activated charcoal can help absorb and remove toxins from the body, including those that may have been expelled through the digestive system. However, it's important to note that activated charcoal should not be used as a substitute for medical treatment. If you suspect that you or someone else has ingested something harmful, please seek immediate medical attention.\n",
      "Response :  The main difference between a technique and a method is that a technique is a more specific and detailed way of doing something, while a method is a broader approach or strategy. In other words, techniques are often used within methods to help achieve a particular goal or objective.\n",
      "Response :  The best way to manage shoulder pain associated with ankylosing spondylitis is through a combination of medications, physical therapy, and lifestyle modifications. Aspirin or other nonsteroidal anti-inflammatory drugs (NSAIDs) can help reduce inflammation and relieve pain. Corticosteroids may also be prescribed for a short period of time to reduce inflammation. Physical therapy, including exercises to improve range of motion and strengthen the muscles around the shoulder, can help maintain shoulder function and reduce pain. Lifestyle modifications such as regular exercise, good posture, and stress reduction techniques can also help manage shoulder pain associated with ankylosing spondylitis.\n",
      "Response :  Kidney stones can be treated with medication, shock wave lithotripsy, or surgery, depending on their size and location. Your doctor will be able to recommend the best treatment option for you.\n",
      "\n",
      "Please let me know if there is anything else I can help with.\n",
      "Response :  Cancer is a group of diseases that are characterized by the uncontrolled growth and spread of abnormal cells. These abnormal cells can invade nearby tissues and organs, causing inflammation and damage. Cancer can be malignant or benign. Malignant cancer is cancer that grows quickly and spreads to other parts of the body, while benign cancer stays in one place and does not spread.\n",
      "Response :  Cancer is a group of diseases that are characterized by the uncontrolled growth and spread of abnormal cells. The exact cause of cancer is not fully understood, but it is believed to involve a combination of genetic mutations, environmental factors, and lifestyle choices. Some cancers are caused by viruses or bacteria, while others may be linked to inherited genetic mutations or random errors in DNA replication.\n",
      "\n",
      "Please let me know if you have any other questions or concerns about cancer.\n",
      "Response :  Radiation therapy is a common treatment for many types of cancer, including brain tumors, breast cancer, lung cancer, and prostate cancer. It works by using high-energy radiation to kill cancer cells or slow their growth. While radiation therapy can be effective in treating cancer, it may not be able to cure all types of cancer. The success of radiation therapy depends on the type of cancer, the location of the tumor, and other factors such as the size and grade of the tumor, and whether the cancer has spread to other parts of the body. In some cases, radiation therapy may be used in combination with other treatments, such as chemotherapy or surgery, to improve the chances of a cure. However, it is important to note that there is no single \"cure for cancer\" and each person's treatment plan will depend on their individual circumstances.\n"
     ]
    }
   ],
   "source": [
    "while True:\n",
    "    user_input=input(f\"Input Prompt:\")\n",
    "    result=qa({\"query\": user_input})\n",
    "    print(\"Response : \", result[\"result\"])"
   ]
  }
 ],
 "metadata": {
  "kernelspec": {
   "display_name": "mchatbot",
   "language": "python",
   "name": "python3"
  },
  "language_info": {
   "codemirror_mode": {
    "name": "ipython",
    "version": 3
   },
   "file_extension": ".py",
   "mimetype": "text/x-python",
   "name": "python",
   "nbconvert_exporter": "python",
   "pygments_lexer": "ipython3",
   "version": "3.12.1"
  }
 },
 "nbformat": 4,
 "nbformat_minor": 2
}
